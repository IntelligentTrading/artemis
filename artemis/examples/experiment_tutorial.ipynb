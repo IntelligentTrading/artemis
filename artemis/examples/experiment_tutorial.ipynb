{
 "cells": [
  {
   "cell_type": "markdown",
   "metadata": {},
   "source": [
    "# Artemis Experiment Tutorial\n",
    "\n",
    "The scientific method can generally involves the following loop:\n",
    "\n",
    "1. Come up with a hypothesis.\n",
    "2. Create an experiment to test this hypothesis\n",
    "3. Run experiment, observe, record results.\n",
    "4. Given results, either celebrate, or return to step 1.\n",
    "\n",
    "All too often, what we actually do is the following:\n",
    "\n",
    "1. Come up with hypothesis\n",
    "2. Create an experiment to test this hypothesis\n",
    "3. Run, experiment, observe results.\n",
    "4. Be somehow unsatisfied with results, change some parameter in experiment.\n",
    "5. Run experiment again with new parameters.\n",
    "6. Observe results again, remain unsatisfied, revert to step 5 several times.\n",
    "7. Get tired of waiting for experiments to run just to analyze results.  Start saving results of experiments, so they can be loaded an analyzed at any time.\n",
    "8. Run several experiments, load and compare results.\n",
    "9. Realize we've forgotten which parameters correspond to which results.\n",
    "10. Try to run all experiments again and save their results, this time keeping track of their parameters, but realize we've forgotten the parameters we used in our first experiments.  \n",
    "11. Eventually get to some result, resolve to be more organized the next time around.\n",
    "12. Repeat from step 1.\n",
    "\n",
    "The Artemis Experiment Framework aims to help organize this process.  It does this with the following functionality.\n",
    "\n",
    "1. **Recording Experimental Results**: The framework captures the console output, plots, and results of an experiment so that we can review them later without having to run the experiment again.  \n",
    "2. **Creating Variations on Experiments**: The framework allows us to define variants on experiments by changing some parameter.  This allows up to build and maintain a list of variations on our experiment, and the results of running these variations.\n",
    "3. **Comparing Experiments**: Using the saved results of each experiment, Artemis allows us to easily go back and compare the results of different experiments.\n",
    "\n",
    "We will demonstrate these in the following tutorial."
   ]
  },
  {
   "cell_type": "markdown",
   "metadata": {},
   "source": [
    "## Introduction\n",
    "\n",
    "Suppose we want to run a simple experiment: We kidnap 5 drunks from the local bar, take them to a point in a secluded field or parking lot, then release them, and record their progress.  While the ethics committee processes our request, we run a simulation to get some preliminary results.  We may code our simulation as follows:"
   ]
  },
  {
   "cell_type": "code",
   "execution_count": null,
   "metadata": {
    "collapsed": false
   },
   "outputs": [],
   "source": [
    "import numpy as np \n",
    "from matplotlib import pyplot as plt\n",
    "%matplotlib notebook\n",
    "\n",
    "\n",
    "def demo_drunkards_walk(n_steps=500, n_drunkards=5, homing_instinct = 0, n_dim=2, seed=1234):\n",
    "    \"\"\"\n",
    "    Release several drunkards in a field to randomly stumble around.  Record their progress.\n",
    "    \"\"\"\n",
    "    rng = np.random.RandomState(seed)\n",
    "    drunkards = np.zeros((n_steps+1, n_drunkards, n_dim))\n",
    "    for t in range(1, n_steps+1):\n",
    "        drunkards[t] = drunkards[t-1]*(1-homing_instinct) + rng.randn(n_drunkards, n_dim)\n",
    "        if t%100==0:\n",
    "            print('Status at step {}: Mean: {}, STD: {}'.format(t, drunkards[t].mean(), drunkards[t].std()))\n",
    "\n",
    "    plt.plot(drunkards[:, :, 0], drunkards[:, :, 1])\n",
    "    plt.grid()\n",
    "    plt.xlabel('$\\Delta$ Longitude (arcseconds)')\n",
    "    plt.ylabel('$\\Delta$ Latitude (arcseconds)')\n",
    "    plt.show()"
   ]
  },
  {
   "cell_type": "code",
   "execution_count": null,
   "metadata": {
    "collapsed": false
   },
   "outputs": [],
   "source": [
    "demo_drunkards_walk()"
   ]
  },
  {
   "cell_type": "markdown",
   "metadata": {},
   "source": [
    "## Running Experiments\n",
    "\n",
    "Now, suppose our simulation takes a long time to run.  We would like to record our results so that we review them later without having to re-run the experiment.  We can achieve this by decorating our experiment with the \"`@experiment_function`\" decordator.  The decorator registers the function `demo_drunkards_walk`, as an \"experiment\", which allows us to capture its output when it is run:   "
   ]
  },
  {
   "cell_type": "code",
   "execution_count": null,
   "metadata": {
    "collapsed": true
   },
   "outputs": [],
   "source": [
    "import numpy as np\n",
    "from artemis.experiments import experiment_function\n",
    "from artemis.experiments.ui import browse_experiments\n",
    "from matplotlib import pyplot as plt\n",
    "from artemis.experiments.experiments import clear_all_experiments\n",
    "clear_all_experiments()  # Removes any previous versions of demo_drunkards_walk that have may been registered\n",
    "%matplotlib notebook\n",
    "\n",
    "\n",
    "@experiment_function\n",
    "def demo_drunkards_walk(n_steps=500, n_drunkards=5, homing_instinct = 0, n_dim=2, seed=1234):\n",
    "    \"\"\"\n",
    "    Release several drunkards in a field to randomly stumble around.  Record their progress.\n",
    "    \"\"\"\n",
    "    rng = np.random.RandomState(seed)\n",
    "    drunkards = np.zeros((n_steps+1, n_drunkards, n_dim))\n",
    "    for t in range(1, n_steps+1):\n",
    "        drunkards[t] = drunkards[t-1]*(1-homing_instinct) + rng.randn(n_drunkards, n_dim)\n",
    "        if t%100==0:\n",
    "            print('Status at step {}: Mean: {}, STD: {}'.format(t, drunkards[t].mean(), drunkards[t].std()))\n",
    "    \n",
    "    plt.plot(drunkards[:, :, 0], drunkards[:, :, 1])\n",
    "    plt.grid()\n",
    "    plt.xlabel('Step')\n",
    "    plt.ylabel('Drunkard Position')\n",
    "    plt.show()"
   ]
  },
  {
   "cell_type": "markdown",
   "metadata": {},
   "source": [
    "We can now run this experiment by calling `browse_experiments()` to open the experiment user interface, and entering **`run 0`**, meaning \"run experiment 0, record all figures and console output\".  (We could also do this programatically with `demo_drunkards_walk.run()`).  In the menu, enter **`run 0`**"
   ]
  },
  {
   "cell_type": "code",
   "execution_count": null,
   "metadata": {
    "collapsed": false
   },
   "outputs": [],
   "source": [
    "demo_drunkards_walk.browse(close_after=True)"
   ]
  },
  {
   "cell_type": "markdown",
   "metadata": {
    "collapsed": true
   },
   "source": [
    "## Viewing Results of Experiments\n",
    "\n",
    "Now if we want to go back later and see these results, we can enter the UI again and enter **`show 0`** meaning \"show the results of experiment 0\".  In the meny, unter **`show 0`**"
   ]
  },
  {
   "cell_type": "code",
   "execution_count": null,
   "metadata": {
    "collapsed": false
   },
   "outputs": [],
   "source": [
    "%matplotlib notebook\n",
    "demo_drunkards_walk.browse(close_after=True)"
   ]
  },
  {
   "cell_type": "markdown",
   "metadata": {},
   "source": [
    "This displays all the output of the experiment, and should show the figure that was created."
   ]
  },
  {
   "cell_type": "markdown",
   "metadata": {
    "collapsed": true
   },
   "source": [
    "# Creating Variants\n",
    "\n",
    "We now want to try changing parameters to our experiment.  We could of course simply change the default arguments and run again, but then our saved experiment no longer corresponds to the new version of this experiment.  We also want to be able to re-run our original experiment whenever we want (without having to write down the parameters it was run with the first time).  To keep track of our variats without losing the original experiment, we can use the `add_variant` method.\n",
    "\n",
    "Suppose, in the following example, that we want to give our drunkards a \"homing instinct\" that makes them tend towards the origin.  We create two variants of our experiment with different degrees of homing instinct:"
   ]
  },
  {
   "cell_type": "code",
   "execution_count": null,
   "metadata": {
    "collapsed": false
   },
   "outputs": [],
   "source": [
    "import numpy as np\n",
    "from artemis.experiments import experiment_function\n",
    "from artemis.experiments.ui import browse_experiments\n",
    "from matplotlib import pyplot as plt\n",
    "from artemis.experiments.experiments import clear_all_experiments\n",
    "clear_all_experiments()  # Removes previous versions of demo_drunkards_walk that have been registered\n",
    "\n",
    "@experiment_function\n",
    "def demo_drunkards_walk(n_steps=500, n_drunkards=5, homing_instinct = 0, n_dim=2, seed=1234):\n",
    "    \"\"\"\n",
    "    Release several drunkards in a field to randomly stumble around.  Record their progress.\n",
    "    \"\"\"\n",
    "    rng = np.random.RandomState(seed)\n",
    "    drunkards = np.zeros((n_steps+1, n_drunkards, n_dim))\n",
    "    for t in range(1, n_steps+1):\n",
    "        drunkards[t] = drunkards[t-1]*(1-homing_instinct) + rng.randn(n_drunkards, n_dim)\n",
    "        if t%100==0:\n",
    "            print('Status at step {}: Mean: {}, STD: {}'.format(t, drunkards[t].mean(), drunkards[t].std()))\n",
    "\n",
    "    plt.plot(drunkards[:, :, 0], drunkards[:, :, 1])\n",
    "    plt.grid()\n",
    "    plt.xlabel('$\\Delta$ Longitude (arcseconds)')\n",
    "    plt.ylabel('$\\Delta$ Latitude (arcseconds)')\n",
    "    plt.show()\n",
    "\n",
    "\n",
    "demo_drunkards_walk.add_variant(homing_instinct = 0.01)\n",
    "demo_drunkards_walk.add_variant(homing_instinct = 0.1)"
   ]
  },
  {
   "cell_type": "markdown",
   "metadata": {},
   "source": [
    "We can now open `browse_experiments()`, and see that our record of experiment 0 is still saved, and we now have two new experiments which have not yet been run.  We can run them by entering **`run 1,2`**."
   ]
  },
  {
   "cell_type": "code",
   "execution_count": null,
   "metadata": {
    "collapsed": false
   },
   "outputs": [],
   "source": [
    "demo_drunkards_walk.browse(close_after = True)"
   ]
  },
  {
   "cell_type": "markdown",
   "metadata": {},
   "source": [
    "Note that we can also could also create variants of our variants if we wanted.  For instance, if we wanted to try a drunkard's walk in 3D:  \n",
    "```\n",
    "X = demo_drunkards_walk.add_variant(homing_instinct = 0.1)\n",
    "X.add_variant(n_dim=3)\n",
    "```"
   ]
  },
  {
   "cell_type": "markdown",
   "metadata": {},
   "source": [
    "## Separating Display and Computation\n",
    "\n",
    "The above is ok if our experiments run quickly and we just want to plot what the drunkards are doing.  But we may want to do some other analysis on our results after running the experiment (without having to start again).  Or we may simply want to change the way we plot our results, without having to re-run everythign.  In these cases, it becomes beneficial to separate plotting from computing the results.  We can use the `display_function` argument to do this.  This display_function should accept the return value of your experiment as its first argument.  "
   ]
  },
  {
   "cell_type": "code",
   "execution_count": null,
   "metadata": {
    "collapsed": false
   },
   "outputs": [],
   "source": [
    "import numpy as np\n",
    "from artemis.experiments import experiment_function, ExperimentFunction\n",
    "from artemis.experiments.ui import browse_experiments\n",
    "from matplotlib import pyplot as plt\n",
    "from artemis.experiments.experiments import clear_all_experiments\n",
    "clear_all_experiments()  # Removes previous versions of demo_drunkards_walk that have been registered\n",
    "%matplotlib notebook  \n",
    "\n",
    "def display_drunkards_walk(record):\n",
    "    print('===== CREATING PLOT OF RECORD {} NOW ===='.format(record.get_id()))\n",
    "    drunkards = record.get_result()\n",
    "    plt.plot(drunkards[:, :, 0], drunkards[:, :, 1])\n",
    "    plt.grid()\n",
    "    plt.xlabel('$\\Delta$ Longitude (arcseconds)')\n",
    "    plt.ylabel('$\\Delta$ Latitude (arcseconds)')\n",
    "    plt.show()\n",
    "\n",
    "\n",
    "@ExperimentFunction(show=display_drunkards_walk)\n",
    "def demo_drunkards_walk(n_steps=500, n_drunkards=5, homing_instinct = 0, n_dim=2, seed=1234):\n",
    "    \"\"\"\n",
    "    Release several drunkards in a field to randomly stumble around.  Record their progress.\n",
    "    \"\"\"\n",
    "    rng = np.random.RandomState(seed)\n",
    "    drunkards = np.zeros((n_steps+1, n_drunkards, n_dim))\n",
    "    for t in range(1, n_steps+1):\n",
    "        drunkards[t] = drunkards[t-1]*(1-homing_instinct) + rng.randn(n_drunkards, n_dim)\n",
    "        if t%100==0:\n",
    "            print('Status at step {}: Mean: {}, STD: {}'.format(t, drunkards[t].mean(), drunkards[t].std()))\n",
    "    return drunkards\n",
    "\n",
    "\n",
    "demo_drunkards_walk.add_variant(homing_instinct = 0.01)\n",
    "demo_drunkards_walk.add_variant(homing_instinct = 0.1)"
   ]
  },
  {
   "cell_type": "markdown",
   "metadata": {},
   "source": [
    "First, since we've changed the code for our experiment, we delete old experiments and run them all again (output not shown):"
   ]
  },
  {
   "cell_type": "code",
   "execution_count": null,
   "metadata": {
    "collapsed": false
   },
   "outputs": [],
   "source": [
    "variants = demo_drunkards_walk.get_all_variants()\n",
    "for experiment in variants:\n",
    "    for record in experiment.get_records():\n",
    "        record.delete()\n",
    "    experiment.run()"
   ]
  },
  {
   "cell_type": "markdown",
   "metadata": {},
   "source": [
    "Then browse through our results, and view the results of experiment 1: \"`demo_drunkards_walk.homing_instinct=0.01`\", by entering **`show 1`**."
   ]
  },
  {
   "cell_type": "code",
   "execution_count": null,
   "metadata": {
    "collapsed": false
   },
   "outputs": [],
   "source": [
    "demo_drunkards_walk.browse(close_after=True)"
   ]
  },
  {
   "cell_type": "markdown",
   "metadata": {},
   "source": [
    "## Comparing Results across experiments\n",
    "\n",
    "Eventually we want to compare the results of different experiments.  For this, we can define the `comparison_function` argument.  This accepts a dictionary, indexed by the experiment name, with values being the return values from saved experiments.  "
   ]
  },
  {
   "cell_type": "code",
   "execution_count": null,
   "metadata": {
    "collapsed": false
   },
   "outputs": [],
   "source": [
    "import numpy as np\n",
    "from artemis.experiments import ExperimentFunction\n",
    "from artemis.experiments.ui import browse_experiments\n",
    "from matplotlib import pyplot as plt\n",
    "from artemis.experiments.experiments import clear_all_experiments\n",
    "clear_all_experiments()  # Removes previous versions of demo_drunkards_walk that have been registered\n",
    "%matplotlib notebook  \n",
    "\n",
    "def compare_drunkards_walk(records):\n",
    "    \n",
    "    plot_handles = []\n",
    "    for i, record in enumerate(records):\n",
    "        drunkards = record.get_result()\n",
    "        plot_handles.append(plt.plot(drunkards[:, :, 0], drunkards[:, :, 1], color='C{}'.format(i)))\n",
    "    plt.grid()\n",
    "    plt.xlabel('$\\Delta$ Longitude (arcseconds)')\n",
    "    plt.ylabel('$\\Delta$ Latitude (arcseconds)')\n",
    "    plt.legend([p[0] for p in plot_handles], [record.get_experiment().get_id() for record in records])\n",
    "    plt.show()\n",
    "    \n",
    "\n",
    "@ExperimentFunction(compare=compare_drunkards_walk)\n",
    "def demo_drunkards_walk(n_steps=500, n_drunkards=5, homing_instinct = 0, n_dim=2, seed=1234):\n",
    "    \"\"\"\n",
    "    Release several drunkards in a field to randomly stumble around.  Record their progress.\n",
    "    \"\"\"\n",
    "    rng = np.random.RandomState(seed)\n",
    "    drunkards = np.zeros((n_steps+1, n_drunkards, n_dim))\n",
    "    for t in xrange(1, n_steps+1):\n",
    "        drunkards[t] = drunkards[t-1]*(1-homing_instinct) + rng.randn(n_drunkards, n_dim)\n",
    "        if t%100==0:\n",
    "            print('Status at step {}: Mean: {}, STD: {}'.format(t, drunkards[t].mean(), drunkards[t].std()))\n",
    "    return drunkards\n",
    "\n",
    "\n",
    "demo_drunkards_walk.add_variant(homing_instinct = 0.01)\n",
    "demo_drunkards_walk.add_variant(homing_instinct = 0.1)"
   ]
  },
  {
   "cell_type": "markdown",
   "metadata": {},
   "source": [
    "Now you can compare the results by entering **`compare all`**"
   ]
  },
  {
   "cell_type": "code",
   "execution_count": null,
   "metadata": {
    "collapsed": false
   },
   "outputs": [],
   "source": [
    "demo_drunkards_walk.browse(close_after=True)"
   ]
  },
  {
   "cell_type": "markdown",
   "metadata": {},
   "source": [
    "# Conclusion\n",
    "\n",
    "The value of the experiment framework is that it lets you keep track of the things you've tried and the outcomes.  This is intended to replace the mish-mash of solutions that people usually use when doing this kind of thing (e.g. saving old commands in terminal, writing results to file and manually loading them later, etc).  "
   ]
  }
 ],
 "metadata": {
  "kernelspec": {
   "display_name": "Python 3",
   "language": "python",
   "name": "python3"
  },
  "language_info": {
   "codemirror_mode": {
    "name": "ipython",
    "version": 3
   },
   "file_extension": ".py",
   "mimetype": "text/x-python",
   "name": "python",
   "nbconvert_exporter": "python",
   "pygments_lexer": "ipython3",
   "version": "3.6.4"
  }
 },
 "nbformat": 4,
 "nbformat_minor": 1
}
